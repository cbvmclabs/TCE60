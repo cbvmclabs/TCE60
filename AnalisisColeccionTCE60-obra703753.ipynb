{
 "cells": [
  {
   "cell_type": "markdown",
   "id": "1daa77c9",
   "metadata": {},
   "source": [
    "## Análisis de la colección TCE60\n",
    "\n",
    "Este ejemplo muestra cómo analizar el dataset generado a partir de los documentos TEI originales en XML. Se ha creado un fichero en formato CSV que es posible analizar con la librería Pandas de Python. \n",
    "\n",
    "El corpus original se puede consultar en la Biblioteca Virtual Miguel de Cervantes:\n",
    "https://www.cervantesvirtual.com/portales/teatro_clasico_espanol/obra/canon-60-la-coleccion-esencial-del-tc12-teatro-clasico-espanol/\n",
    "\n",
    "La colección se basa en los parlamentos de las obras incluidas en el corpus TCE60 organizados a modo de registro (idRegistro, idAutoridad, Personaje, Texto) "
   ]
  },
  {
   "cell_type": "markdown",
   "id": "128e6210",
   "metadata": {},
   "source": [
    "### Importamos las librerías de Python"
   ]
  },
  {
   "cell_type": "code",
   "execution_count": 2,
   "id": "558aad51",
   "metadata": {},
   "outputs": [],
   "source": [
    "import pandas as pd\n",
    "from matplotlib import pyplot as plt\n",
    "import numpy as np"
   ]
  },
  {
   "cell_type": "markdown",
   "id": "a649ea7e",
   "metadata": {},
   "source": [
    "### Análisis de la obra Del rey abajo, ninguno / atribuida a Francisco de Rojas Zorrilla; edición a cargo de Germán Vega García-Luengos\n",
    "\n",
    "https://data.cervantesvirtual.com/manifestation/703753"
   ]
  },
  {
   "cell_type": "code",
   "execution_count": 3,
   "id": "d7cf4923",
   "metadata": {},
   "outputs": [
    {
     "name": "stdout",
     "output_type": "stream",
     "text": [
      "        Registro ID Autoridad  Índice   Personaje  \\\n",
      "8330  703753.xml           11       0         REY   \n",
      "8331  703753.xml           11       1   DON MENDO   \n",
      "8332  703753.xml           11       2         REY   \n",
      "8333  703753.xml           11       3   DON MENDO   \n",
      "8334  703753.xml           11       4         REY   \n",
      "...          ...          ...     ...         ...   \n",
      "8860  703753.xml           11     530         REY   \n",
      "8861  703753.xml           11     531       CONDE   \n",
      "8862  703753.xml           11     532       REINA   \n",
      "8863  703753.xml           11     533         REY   \n",
      "8864  703753.xml           11     534  DON GARCÍA   \n",
      "\n",
      "                                          Contenido XML  \\\n",
      "8330  <sp who=\"rey\"> <l indent=\"yes\" n=\"1\">Don Mendo...   \n",
      "8331  <sp who=\"mendo\"><l part=\"F\" n=\"2\">Decid querel...   \n",
      "8332  <sp who=\"rey\"> <l indent=\"yes\" n=\"21\">Don Mend...   \n",
      "8333  <sp who=\"mendo\"><l n=\"22\">Y a mi ruego &#191;q...   \n",
      "8334  <sp who=\"rey\"> <l n=\"23\">Est&#225; bien. Llama...   \n",
      "...                                                 ...   \n",
      "8860  <sp who=\"rey\"> <l part=\"I\">&#191;Qu&#233; es e...   \n",
      "8861  <sp who=\"conde\"><l part=\"F\" n=\"2565\">Verdades<...   \n",
      "8862  <sp who=\"reina\"><l indent=\"yes\" n=\"2567\">Oblig...   \n",
      "8863  <sp who=\"rey\"> <l part=\"F\" n=\"2568\">Mis brazos...   \n",
      "8864  <sp who=\"garcia\"> <l n=\"2572\">Pues toque el pa...   \n",
      "\n",
      "                                        Contenido texto  \n",
      "8330  Don Mendo, vuestra demanda\\r\\n            he v...  \n",
      "8331  Decid querella.\\r\\n      Que me hagáis, suplic...  \n",
      "8332                        Don Mendo, al Conde llamad.  \n",
      "8333                        Y a mi ruego ¿qué responde?  \n",
      "8334                        Está bien. Llamad al Conde.  \n",
      "...                                                 ...  \n",
      "8860                               ¿Qué es esto, Conde?  \n",
      "8861        Verdades\\r\\n      que es forzoso descubrir.  \n",
      "8862         Obligada a su perdón\\r\\n            estoy.  \n",
      "8863  Mis brazos tomad;\\r\\n      los vuestros, Blanc...  \n",
      "8864  Pues toque el parche sonoro,\\r\\n      que rayo...  \n",
      "\n",
      "[535 rows x 6 columns]\n"
     ]
    }
   ],
   "source": [
    "idObra = '703753' +  '.xml'\n",
    "df = pd.read_csv ('../data/procesado.csv', sep=';')\n",
    "df = df[df['Registro'] == idObra]\n",
    "print(df)"
   ]
  },
  {
   "cell_type": "code",
   "execution_count": null,
   "id": "66f048d2",
   "metadata": {},
   "outputs": [],
   "source": []
  }
 ],
 "metadata": {
  "kernelspec": {
   "display_name": "Python 3",
   "language": "python",
   "name": "python3"
  },
  "language_info": {
   "codemirror_mode": {
    "name": "ipython",
    "version": 3
   },
   "file_extension": ".py",
   "mimetype": "text/x-python",
   "name": "python",
   "nbconvert_exporter": "python",
   "pygments_lexer": "ipython3",
   "version": "3.9.12"
  }
 },
 "nbformat": 4,
 "nbformat_minor": 5
}
