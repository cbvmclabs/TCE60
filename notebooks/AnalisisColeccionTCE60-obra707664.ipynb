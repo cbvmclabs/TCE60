{
 "cells": [
  {
   "cell_type": "markdown",
   "id": "1daa77c9",
   "metadata": {},
   "source": [
    "## Análisis de la colección TCE60\n",
    "\n",
    "Este ejemplo muestra cómo analizar el dataset generado a partir de los documentos TEI originales en XML. Se ha creado un fichero en formato CSV que es posible analizar con la librería Pandas de Python. \n",
    "\n",
    "El corpus original se puede consultar en la Biblioteca Virtual Miguel de Cervantes:\n",
    "https://www.cervantesvirtual.com/portales/teatro_clasico_espanol/obra/canon-60-la-coleccion-esencial-del-tc12-teatro-clasico-espanol/\n",
    "\n",
    "La colección se basa en los parlamentos de las obras incluidas en el corpus TCE60 organizados a modo de registro (idRegistro, idAutoridad, Personaje, Texto) "
   ]
  },
  {
   "cell_type": "markdown",
   "id": "128e6210",
   "metadata": {},
   "source": [
    "### Importamos las librerías de Python"
   ]
  },
  {
   "cell_type": "code",
   "execution_count": 1,
   "id": "558aad51",
   "metadata": {},
   "outputs": [],
   "source": [
    "import pandas as pd\n",
    "from matplotlib import pyplot as plt\n",
    "import numpy as np"
   ]
  },
  {
   "cell_type": "markdown",
   "id": "a649ea7e",
   "metadata": {},
   "source": [
    "### Análisis de la obra La Estrella de Sevilla: comedia famosa / Nàdia Revenga García, editora\n",
    "\n",
    "https://data.cervantesvirtual.com/manifestation/707664"
   ]
  },
  {
   "cell_type": "code",
   "execution_count": 2,
   "id": "d7cf4923",
   "metadata": {},
   "outputs": [
    {
     "name": "stdout",
     "output_type": "stream",
     "text": [
      "         Registro ID Autoridad  Índice  Personaje  \\\n",
      "47133  707664.xml         None       0        REY   \n",
      "47134  707664.xml         None       1  DON PEDRO   \n",
      "47135  707664.xml         None       2        REY   \n",
      "47136  707664.xml         None       3  DON PEDRO   \n",
      "47137  707664.xml         None       4        REY   \n",
      "...           ...          ...     ...        ...   \n",
      "47890  707664.xml         None     757   CLARINDO   \n",
      "47891  707664.xml         None     758        REY   \n",
      "47892  707664.xml         None     759  DON PEDRO   \n",
      "47893  707664.xml         None     760        REY   \n",
      "47894  707664.xml         None     761   CLARINDO   \n",
      "\n",
      "                                           Contenido XML  \\\n",
      "47133  <sp who=\"rey\">\\r\\n \\r\\n \\r\\n <l n=\"1\">Muy agra...   \n",
      "47134  <sp who=\"pedro\">\\r\\n <l n=\"21\">Hoy sus alcalde...   \n",
      "47135  <sp who=\"rey\">\\r\\n <l n=\"31\">Yo quedo muy sati...   \n",
      "47136  <sp who=\"pedro\">\\r\\n <l n=\"32\">Tus manos nos d...   \n",
      "47137  <sp who=\"rey\">\\r\\n <l n=\"33\">Id, Sevilla, a de...   \n",
      "...                                                  ...   \n",
      "47890  <sp who=\"clarindo\">\\r\\n <l n=\"3020\"> Mas me pa...   \n",
      "47891  <sp who=\"rey\">\\r\\n <l n=\"3021\"> Toda esta gent...   \n",
      "47892  <sp who=\"pedro\">\\r\\n <l n=\"3022\"> Tiene esta g...   \n",
      "47893  <sp who=\"rey\">\\r\\n <l n=\"3023\"> Casarla pienso...   \n",
      "47894  <sp who=\"clarindo\">\\r\\n <l part=\"F\" n=\"3024\">Y...   \n",
      "\n",
      "                                         Contenido texto  \n",
      "47133  Muy agradecido estoy\\r\\n al cuidado de Sevilla...  \n",
      "47134  Hoy sus alcaldes mayores\\r\\n agradecidos pedim...  \n",
      "47135                           Yo quedo muy satisfecho.  \n",
      "47136                          Tus manos nos da a besar.  \n",
      "47137  Id, Sevilla, a descansar,\\r\\n que en recebirme...  \n",
      "...                                                  ...  \n",
      "47890                              Mas me parece locura.  \n",
      "47891                        Toda esta gente me espanta.  \n",
      "47892                          Tiene esta gente Sevilla.  \n",
      "47893        Casarla pienso, y casarla\\r\\n  como merece.  \n",
      "47894  Y aquí\\r\\n  esta tragedia os consagra\\r\\n  Lop...  \n",
      "\n",
      "[762 rows x 6 columns]\n"
     ]
    }
   ],
   "source": [
    "idObra = '707664' +  '.xml'\n",
    "df = pd.read_csv ('../data/procesado.csv', sep=';')\n",
    "df = df[df['Registro'] == idObra]\n",
    "print(df)"
   ]
  },
  {
   "cell_type": "code",
   "execution_count": null,
   "id": "66f048d2",
   "metadata": {},
   "outputs": [],
   "source": []
  }
 ],
 "metadata": {
  "kernelspec": {
   "display_name": "Python 3",
   "language": "python",
   "name": "python3"
  },
  "language_info": {
   "codemirror_mode": {
    "name": "ipython",
    "version": 3
   },
   "file_extension": ".py",
   "mimetype": "text/x-python",
   "name": "python",
   "nbconvert_exporter": "python",
   "pygments_lexer": "ipython3",
   "version": "3.9.12"
  }
 },
 "nbformat": 4,
 "nbformat_minor": 5
}
